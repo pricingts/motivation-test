{
 "cells": [
  {
   "cell_type": "code",
   "execution_count": 1,
   "id": "2c966e0f-83b7-4d2a-97c4-b840d8c082c8",
   "metadata": {
    "tags": []
   },
   "outputs": [
    {
     "ename": "ModuleNotFoundError",
     "evalue": "No module named 'pandas'",
     "output_type": "error",
     "traceback": [
      "\u001b[31m---------------------------------------------------------------------------\u001b[39m",
      "\u001b[31mModuleNotFoundError\u001b[39m                       Traceback (most recent call last)",
      "\u001b[36mCell\u001b[39m\u001b[36m \u001b[39m\u001b[32mIn[1]\u001b[39m\u001b[32m, line 2\u001b[39m\n\u001b[32m      1\u001b[39m \u001b[38;5;66;03m# Load the functions from your scorer and apply directly to the DataFrame\u001b[39;00m\n\u001b[32m----> \u001b[39m\u001b[32m2\u001b[39m \u001b[38;5;28;01mimport\u001b[39;00m\u001b[38;5;250m \u001b[39m\u001b[34;01mrunpy\u001b[39;00m,\u001b[38;5;250m \u001b[39m\u001b[34;01mpandas\u001b[39;00m\u001b[38;5;250m \u001b[39m\u001b[38;5;28;01mas\u001b[39;00m\u001b[38;5;250m \u001b[39m\u001b[34;01mpd\u001b[39;00m\n\u001b[32m      4\u001b[39m score_mod = runpy.run_path(\u001b[33m\"\u001b[39m\u001b[33m/home/jupyter/Motivations_test/score_results.py\u001b[39m\u001b[33m\"\u001b[39m)\n\u001b[32m      5\u001b[39m load_csv  = score_mod[\u001b[33m\"\u001b[39m\u001b[33mload_csv\u001b[39m\u001b[33m\"\u001b[39m]\n",
      "\u001b[31mModuleNotFoundError\u001b[39m: No module named 'pandas'"
     ]
    }
   ],
   "source": [
    "# Load the functions from your scorer and apply directly to the DataFrame\n",
    "import runpy, pandas as pd\n",
    "\n",
    "score_mod = runpy.run_path(\"/home/jupyter/Motivations_test/score_results.py\")\n",
    "load_csv  = score_mod[\"load_csv\"]\n",
    "score_df  = score_mod[\"score_df\"]\n",
    "aggregate_summary = score_mod[\"aggregate_summary\"]\n",
    "\n",
    "# Read raw answers\n",
    "df_raw = load_csv(\"/home/jupyter/Motivations_test/data/respuestas_cuestionario.csv\")\n",
    "\n",
    "# (Optional) keep latest per cedula — mimic CLI --dedupe cedula\n",
    "def dedupe_keep_latest(df, key=\"cedula\"):\n",
    "    if key not in df.columns:\n",
    "        return df\n",
    "    ts = pd.to_datetime(df[\"timestamp_utc\"], errors=\"coerce\")\n",
    "    return (\n",
    "        df.assign(_ts=ts)\n",
    "          .sort_values(\"_ts\")\n",
    "          .groupby(key, dropna=False)\n",
    "          .tail(1)\n",
    "          .drop(columns=\"_ts\")\n",
    "          .sort_index()\n",
    "    )\n",
    "\n",
    "df_raw = dedupe_keep_latest(df_raw, key=\"cedula\")\n",
    "\n",
    "# Score and show\n",
    "scored, reliability = score_df(df_raw)\n",
    "summary = aggregate_summary(scored)\n",
    "\n",
    "print(\"Cronbach's alpha by subscale:\", reliability)\n",
    "print(\"=== First 10 scored rows ===\")\n",
    "display(scored.head(10))\n",
    "\n",
    "print(\"=== Aggregate summary ===\")\n",
    "display(summary)\n"
   ]
  },
  {
   "cell_type": "code",
   "execution_count": null,
   "id": "ed3e6a7d-e262-4239-9c82-5f71afd5aee3",
   "metadata": {},
   "outputs": [],
   "source": []
  }
 ],
 "metadata": {
  "environment": {
   "kernel": "conda-base-py",
   "name": "workbench-notebooks.m125",
   "type": "gcloud",
   "uri": "us-docker.pkg.dev/deeplearning-platform-release/gcr.io/workbench-notebooks:m125"
  },
  "kernelspec": {
   "display_name": "test",
   "language": "python",
   "name": "python3"
  },
  "language_info": {
   "codemirror_mode": {
    "name": "ipython",
    "version": 3
   },
   "file_extension": ".py",
   "mimetype": "text/x-python",
   "name": "python",
   "nbconvert_exporter": "python",
   "pygments_lexer": "ipython3",
   "version": "3.13.2"
  }
 },
 "nbformat": 4,
 "nbformat_minor": 5
}
